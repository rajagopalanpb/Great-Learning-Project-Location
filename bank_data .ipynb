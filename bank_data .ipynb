{
 "cells": [
  {
   "cell_type": "code",
   "execution_count": null,
   "metadata": {},
   "outputs": [],
   "source": [
    "# Importing required libraries\n",
    "import pandas as pd\n",
    "import numpy as np\n",
    "import matplotlib.pyplot as plt\n",
    "from sklearn.preprocessing import Normalizer\n",
    "from sklearn.model_selection import train_test_split\n",
    "from sklearn.linear_model import LogisticRegression\n",
    "import sklearn.metrics as metric"
   ]
  },
  {
   "cell_type": "markdown",
   "metadata": {},
   "source": [
    "## Reading data"
   ]
  },
  {
   "cell_type": "code",
   "execution_count": null,
   "metadata": {},
   "outputs": [],
   "source": [
    "#reading Bank_Personal_Loan_Modelling.csv using pandas\n",
    "data = pd.read_csv(\"Bank_Personal_Loan_Modelling.csv\")"
   ]
  },
  {
   "cell_type": "markdown",
   "metadata": {},
   "source": [
    "## Data Insight"
   ]
  },
  {
   "cell_type": "code",
   "execution_count": null,
   "metadata": {},
   "outputs": [],
   "source": [
    "#Shape of data\n",
    "print('Number of instances = {}\\nNumber of features = {}'.format(data.shape[0],data.shape[1]))"
   ]
  },
  {
   "cell_type": "code",
   "execution_count": null,
   "metadata": {},
   "outputs": [],
   "source": [
    "#Sneak Peak into the data\n",
    "data.head()"
   ]
  },
  {
   "cell_type": "code",
   "execution_count": null,
   "metadata": {},
   "outputs": [],
   "source": [
    "#Printing datatypes\n",
    "print('Data DataType')\n",
    "data.info()"
   ]
  },
  {
   "cell_type": "code",
   "execution_count": null,
   "metadata": {},
   "outputs": [],
   "source": [
    "#Statistical Info of data\n",
    "print('Data Description')\n",
    "data.describe()"
   ]
  },
  {
   "cell_type": "code",
   "execution_count": null,
   "metadata": {},
   "outputs": [],
   "source": [
    "#plotting data for better visualisation\n",
    "data.hist(bins=50,figsize=(20,15))\n",
    "plt.show()"
   ]
  },
  {
   "cell_type": "code",
   "execution_count": null,
   "metadata": {
    "scrolled": true
   },
   "outputs": [],
   "source": [
    "#Unique values of each column\n",
    "col_names = list(data.columns)\n",
    "for features in col_names:\n",
    "    print(\"Unique Elements in Column : {}\".format(features))\n",
    "    print(data[features].value_counts())\n",
    "    print('\\n\\n')"
   ]
  },
  {
   "cell_type": "code",
   "execution_count": null,
   "metadata": {},
   "outputs": [],
   "source": [
    "#Selecting data having mortgage = 0 and printing it's length\n",
    "zero_mortage = data[data['Mortgage']== 0]\n",
    "print('People with zero Mortgage : {}'.format(len(zero_mortage)))"
   ]
  },
  {
   "cell_type": "code",
   "execution_count": null,
   "metadata": {},
   "outputs": [],
   "source": [
    "#Selecting people having zero credit card spending  and printing it's lenght\n",
    "zero_credit = data[data['CCAvg']== 0]\n",
    "print('People with zero credit card spending per month : {}'.format(len(zero_credit)))"
   ]
  },
  {
   "cell_type": "code",
   "execution_count": null,
   "metadata": {},
   "outputs": [],
   "source": [
    "#Selecting Categorial Columns\n",
    "cat_col = ['CD Account','CreditCard','Education','Family','Online','Personal Loan','Securities Account']\n",
    "\n",
    "# Printing value counts of each categorical columns\n",
    "for features in cat_col:\n",
    "    print(\"Unique Elements in Column : {}\".format(features))\n",
    "    print(data[features].value_counts())\n",
    "    print('\\n\\n')"
   ]
  },
  {
   "cell_type": "markdown",
   "metadata": {},
   "source": [
    "## Getting data model ready"
   ]
  },
  {
   "cell_type": "code",
   "execution_count": null,
   "metadata": {},
   "outputs": [],
   "source": [
    "#selecting label i.e. target value\n",
    "label= data['Personal Loan']"
   ]
  },
  {
   "cell_type": "markdown",
   "metadata": {},
   "source": [
    "#### Normalizing the data i.e z = (x- min(x))/(max(x)-min(x)) where x is a dataframe"
   ]
  },
  {
   "cell_type": "code",
   "execution_count": null,
   "metadata": {},
   "outputs": [],
   "source": [
    "data['Age'] = (data['Age']-min(data['Age']))/(max(data['Age'])-min(data['Age']))\n",
    "data['CCAvg'] = (data['CCAvg']-min(data['CCAvg']))/(max(data['CCAvg'])-min(data['CCAvg']))\n",
    "data['Experience'] = (data['Experience']-min(data['Experience']))/(max(data['Experience'])-min(data['Experience']))\n",
    "data['Income'] = (data['Income']-min(data['Income']))/(max(data['Income'])-min(data['Income']))\n",
    "data['Mortgage'] = (data['Mortgage']-min(data['Mortgage']))/(max(data['Mortgage'])-min(data['Mortgage']))"
   ]
  },
  {
   "cell_type": "code",
   "execution_count": null,
   "metadata": {},
   "outputs": [],
   "source": [
    "#Dropping Irrelevant Data and label column\n",
    "data = data.drop(['ID','ZIP Code','Personal Loan'],axis = 1)"
   ]
  },
  {
   "cell_type": "markdown",
   "metadata": {},
   "source": [
    "## Splitting Data into train and test"
   ]
  },
  {
   "cell_type": "code",
   "execution_count": null,
   "metadata": {},
   "outputs": [],
   "source": [
    "#Splitting the data in ration 70:30 (train:test)\n",
    "X_train,X_test,Y_train,Y_test = train_test_split(data,label,stratify=label,train_size= 0.70,test_size= 0.30)"
   ]
  },
  {
   "cell_type": "code",
   "execution_count": null,
   "metadata": {},
   "outputs": [],
   "source": [
    "#Printing the shape of Data\n",
    "X_train.shape,X_test.shape"
   ]
  },
  {
   "cell_type": "markdown",
   "metadata": {},
   "source": [
    "## Logistic Regression"
   ]
  },
  {
   "cell_type": "code",
   "execution_count": null,
   "metadata": {},
   "outputs": [],
   "source": [
    "#Making instance of LogisticRegression\n",
    "log_reg = LogisticRegression()"
   ]
  },
  {
   "cell_type": "code",
   "execution_count": null,
   "metadata": {},
   "outputs": [],
   "source": [
    "#Fitting data to calssifier\n",
    "log_reg.fit(X_train,Y_train)"
   ]
  },
  {
   "cell_type": "code",
   "execution_count": null,
   "metadata": {},
   "outputs": [],
   "source": [
    "#Predicting values using pre trained values\n",
    "Y_pred = log_reg.predict(X_test)"
   ]
  },
  {
   "cell_type": "markdown",
   "metadata": {},
   "source": [
    "## Metric Score"
   ]
  },
  {
   "cell_type": "code",
   "execution_count": null,
   "metadata": {},
   "outputs": [],
   "source": [
    "#Printing accuracy\n",
    "print('ACCURACY : {}\\n'.format(metric.accuracy_score(Y_test,Y_pred)))\n",
    "#Print Confuison matrix\n",
    "print('Confusion Matrix :\\n {}\\n'.format(metric.confusion_matrix(Y_test,Y_pred)))\n",
    "\n",
    "print('Classification Report :\\n {}\\n'.format(metric.classification_report(Y_test,Y_pred)))"
   ]
  },
  {
   "cell_type": "code",
   "execution_count": null,
   "metadata": {},
   "outputs": [],
   "source": []
  }
 ],
 "metadata": {
  "kernelspec": {
   "display_name": "Python 3",
   "language": "python",
   "name": "python3"
  },
  "language_info": {
   "codemirror_mode": {
    "name": "ipython",
    "version": 3
   },
   "file_extension": ".py",
   "mimetype": "text/x-python",
   "name": "python",
   "nbconvert_exporter": "python",
   "pygments_lexer": "ipython3",
   "version": "3.7.6"
  }
 },
 "nbformat": 4,
 "nbformat_minor": 2
}
